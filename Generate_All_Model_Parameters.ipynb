{
 "cells": [
  {
   "cell_type": "code",
   "execution_count": 2,
   "metadata": {},
   "outputs": [],
   "source": [
    "import pandas as pd\n",
    "import glob\n",
    "import numpy as np\n",
    "import os, sys\n",
    "import matplotlib.pyplot as plt\n",
    "from scipy.stats import pearsonr, spearmanr"
   ]
  },
  {
   "cell_type": "code",
   "execution_count": 8,
   "metadata": {},
   "outputs": [],
   "source": [
    "def append_cols(df1,df2,task,cols):\n",
    "    for col in cols:\n",
    "        df1['{}_{}'.format(task,col)] = df2.loc[df2['subject'] == df1['subject'],col]\n",
    "    \n",
    "    return df1"
   ]
  },
  {
   "cell_type": "code",
   "execution_count": 18,
   "metadata": {},
   "outputs": [
    {
     "name": "stdout",
     "output_type": "stream",
     "text": [
      "['Unnamed: 0', 'subject', 'task', 'response_rate', 'percent_impulse', 'negLL', 'gamma', 'kappa', 'alpha', 'at_bound', 'LL', 'LL0', 'AIC', 'BIC', 'R2', 'correct', 'prob_span', 'fig_fn']\n"
     ]
    }
   ],
   "source": [
    "#create all data frames\n",
    "#root dir for mac\n",
    "#root_dir = \"/Users/govild2/National Institutes of Health/NIMH CDN lab - Documents/Experiments/1-Data/IDM/IDM-CloudResearch/\"\n",
    "#root dir for windows\n",
    "root_dir = \"C:/Users/govild2/National Institutes of Health/NIMH CDN lab - Documents/Datasets/IDM/IDM-CloudResearch\"\n",
    "conf_dir = os.path.join(root_dir,\"Confidence_analysis/CASENDRE_output\")\n",
    "value_dir = os.path.join(root_dir,\"IDM_Model_Output\")\n",
    "save_dir = os.path.join(root_dir,\"Confidence_analysis\")\n",
    "\n",
    "tasks = ['crdm','cdd','cpdm_block_1','cpdm_block_2','cpdm_block_3','cpdm_block_4']\n",
    "batches = [\"Batch_1_2\",\"Batch_3\",\"Batch_4\"]\n",
    "\n",
    "df_batches = []\n",
    "\n",
    "#get meta-uncertainty values estimated by the CASANDRE model\n",
    "for task in tasks:\n",
    "    frames = []\n",
    "    for batch in batches:\n",
    "        idf = pd.read_csv(os.path.join(conf_dir,batch,\"{}_metauncertainty_by_subject.csv\".format(task)))\n",
    "        frames = frames + [idf]\n",
    "    df_batch = pd.concat(frames,ignore_index=True)\n",
    "    df_batches = df_batches + [df_batch]\n",
    "\n",
    "[df_crdm_batches,df_cdd_batches,df_cpdm_b1_batches,df_cpdm_b2_batches,df_cpdm_b3_batches,df_cpdm_b4_batches] = df_batches\n",
    "\n",
    "#get parameters from value-based model\n",
    "tasks = ['CRDM_analysis','CDD_analysis','CDD_analysis_alpha']\n",
    "df_batches = []\n",
    "for task in tasks:\n",
    "    frames = []\n",
    "    for batch in batches:\n",
    "        idf = pd.read_csv(os.path.join(value_dir,batch,\"{}_{}.csv\".format(batch,task)))\n",
    "        frames = frames + [idf]\n",
    "    df_batch = pd.concat(frames,ignore_index=True)\n",
    "    df_batches = df_batches + [df_batch]\n",
    "\n",
    "[df_total_CRDM_analysis,df_total_CDD_analysis,df_total_CDD_analysis_alpha] = df_batches\n",
    "print(list(df_total_CDD_analysis))"
   ]
  },
  {
   "cell_type": "code",
   "execution_count": 21,
   "metadata": {},
   "outputs": [
    {
     "name": "stdout",
     "output_type": "stream",
     "text": [
      "Saving Aggregate Data to: C:/Users/govild2/National Institutes of Health/NIMH CDN lab - Documents/Datasets/IDM/IDM-CloudResearch\\Confidence_analysis\\Model_Parameters_Aggregate.csv\n"
     ]
    }
   ],
   "source": [
    "#combine dfs\n",
    "#cdd\n",
    "df_aggregate = df_cdd_batches\n",
    "df_aggregate = df_aggregate.rename(columns={'meta_uncertainty':'cdd_meta'})\n",
    "\n",
    "#crdm\n",
    "\n",
    "df_aggregate['crdm_meta'] = df_crdm_batches.loc[df_crdm_batches['subject']==df_aggregate['subject'],'meta_uncertainty']\n",
    "\n",
    "#cpdm\n",
    "#cpdm block 1\n",
    "df_aggregate['cpdm_b1_meta'] = df_cpdm_b1_batches.loc[df_cpdm_b1_batches['subject']==df_aggregate['subject'],'meta_uncertainty']\n",
    "\n",
    "#cpdm block 2\n",
    "df_aggregate['cpdm_b2_meta'] = df_cpdm_b2_batches.loc[df_cpdm_b2_batches['subject']==df_aggregate['subject'],'meta_uncertainty']\n",
    "\n",
    "#cpdm block 3\n",
    "df_aggregate['cpdm_b3_meta'] = df_cpdm_b3_batches.loc[df_cpdm_b3_batches['subject']==df_aggregate['subject'],'meta_uncertainty']\n",
    "\n",
    "#cpdm block 4\n",
    "df_aggregate['cpdm_b4_meta'] = df_cpdm_b4_batches.loc[df_cpdm_b4_batches['subject']==df_aggregate['subject'],'meta_uncertainty']\n",
    "\n",
    "#computing average across 4 cpdm blocks\n",
    "cols = ['cpdm_b1_meta','cpdm_b2_meta','cpdm_b3_meta','cpdm_b4_meta']\n",
    "df_aggregate['cpdm_avg_meta'] = np.mean(df_aggregate[cols],axis=1)\n",
    "#sorting by subject\n",
    "df_aggregate = df_aggregate.sort_values(by=['subject']).reset_index(drop=True)\n",
    "\n",
    "#CRDM analyses (beta parameter)\n",
    "#print(df_total_CRDM_analysis)\n",
    "cols = ['negLL', 'gamma', 'beta', 'alpha', 'R2']\n",
    "task = 'crdm'\n",
    "df_total_CRDM_analysis = df_total_CRDM_analysis.sort_values(by=['subject']).reset_index(drop=True)\n",
    "df_aggregate = append_cols(df_aggregate,df_total_CRDM_analysis,task,cols)\n",
    "\n",
    "cols = ['negLL', 'gamma', 'kappa', 'alpha', 'R2']\n",
    "task = 'cdd'\n",
    "df_total_CDD_analysis = df_total_CDD_analysis.sort_values(by=['subject']).reset_index(drop=True)\n",
    "df_aggregate = append_cols(df_aggregate,df_total_CDD_analysis,task,cols)\n",
    "\n",
    "task = 'cdd_alpha'\n",
    "df_total_CDD_analysis_alpha = df_total_CDD_analysis_alpha.sort_values(by=['subject']).reset_index(drop=True)\n",
    "df_aggregate = append_cols(df_aggregate,df_total_CDD_analysis_alpha,task,cols)\n",
    "\n",
    "fn = os.path.join(save_dir,\"Model_Parameters_Aggregate.csv\")\n",
    "print(\"Saving Aggregate Data to: {}\".format(fn))\n",
    "df_aggregate.to_csv(fn,index=False)"
   ]
  }
 ],
 "metadata": {
  "kernelspec": {
   "display_name": "Python 3",
   "language": "python",
   "name": "python3"
  },
  "language_info": {
   "codemirror_mode": {
    "name": "ipython",
    "version": 3
   },
   "file_extension": ".py",
   "mimetype": "text/x-python",
   "name": "python",
   "nbconvert_exporter": "python",
   "pygments_lexer": "ipython3",
   "version": "3.9.13"
  },
  "orig_nbformat": 4,
  "vscode": {
   "interpreter": {
    "hash": "6b5b20ec0c470904e5f44754da6099b14478c0f3408a6836f97893874d5e67cd"
   }
  }
 },
 "nbformat": 4,
 "nbformat_minor": 2
}
